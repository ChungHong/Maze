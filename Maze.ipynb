{
 "cells": [
  {
   "cell_type": "code",
   "execution_count": 367,
   "metadata": {},
   "outputs": [],
   "source": [
    "import numpy as np\n",
    "import random\n",
    "import time"
   ]
  },
  {
   "cell_type": "code",
   "execution_count": 57,
   "metadata": {},
   "outputs": [],
   "source": [
    "def Make_maze(start_number = 1, end_number = 9, n_number = 3): \n",
    "    assert  not end_number % n_number, \"The dimention can not be divided by your end number.\"\n",
    "    \n",
    "    maze_body = np.arange(start_number, end_number + 1).reshape(n_number, end_number // n_number)\n",
    "    maze_wall = np.hstack([np.insert(maze_body, 0, np.zeros(n_number, dtype = int), axis = 1),\n",
    "                           np.zeros((n_number, 1), dtype = int)])\n",
    "    maze = np.vstack([np.insert(maze_wall, 0, np.zeros((maze_wall.shape[1]), dtype = int), axis = 0),\n",
    "                      (np.zeros((maze_wall.shape[1]), dtype = int))])\n",
    "\n",
    "#     Another way to creat maze.\n",
    "#     maze_wall = np.hstack((np.zeros((n_number, 1), dtype = int),\n",
    "#                            np.hstack((maze_body,\n",
    "#                                       np.zeros((n_number, 1), dtype = int)))))\n",
    "#     maze = np.vstack((np.zeros((maze_wall.shape[1]), dtype = int),\n",
    "#                       np.vstack((maze_wall,\n",
    "#                                  np.zeros((maze_wall.shape[1]), dtype = int)))))\n",
    "\n",
    "    return maze, end_number"
   ]
  },
  {
   "cell_type": "code",
   "execution_count": 292,
   "metadata": {},
   "outputs": [],
   "source": [
    "def choose_direction(i, j):\n",
    "    direction = []\n",
    "    \n",
    "    if Maze[0][i, j] != Maze[1]:\n",
    "        if Maze[0][i, j - 1] :\n",
    "            direction.append(\"L./\")\n",
    "        if Maze[0][i, j + 1] :\n",
    "            direction.append(\"R./\")\n",
    "        if Maze[0][i + 1, j] :\n",
    "            direction.append(\"D./\")\n",
    "        if Maze[0][i - 1, j] :\n",
    "            direction.append(\"U./\")\n",
    "    else:\n",
    "        direction.append(\"Non\")\n",
    "\n",
    "    return(random.choice(direction))"
   ]
  },
  {
   "cell_type": "code",
   "execution_count": 310,
   "metadata": {},
   "outputs": [],
   "source": [
    "def Walk(x = 1, y = 1):\n",
    "    Direction = choose_direction(x, y)\n",
    "    mouse = Maze[0][x, y]\n",
    "    \n",
    "    if mouse != Maze[1]:\n",
    "        if Direction == \"U./\":\n",
    "            x -= 1\n",
    "        elif Direction == \"D./\":\n",
    "            x += 1\n",
    "        elif Direction == \"L./\":\n",
    "            y -= 1\n",
    "        elif Direction == \"R./\":\n",
    "            y += 1\n",
    "        else: print(\"END\")\n",
    "        \n",
    "        global run \n",
    "        run += 1\n",
    "        Walk(x, y)\n",
    "        #print(Direction, \",\",mouse) #for check"
   ]
  },
  {
   "cell_type": "code",
   "execution_count": 381,
   "metadata": {},
   "outputs": [],
   "source": [
    "Maze = Make_maze()\n",
    "run = 0\n",
    "Record = []\n",
    "start_1m = time.process_time()\n",
    "for i in range(1_000_000): # This is faster than R when times is 1,000,000! The time is about 1 minute.\n",
    "    run = 0\n",
    "    Walk()\n",
    "    Record.append(run)\n",
    "end_1m = time.process_time()\n",
    "Diff_1m = end_1m - start_1m"
   ]
  },
  {
   "cell_type": "code",
   "execution_count": 383,
   "metadata": {},
   "outputs": [
    {
     "name": "stdout",
     "output_type": "stream",
     "text": [
      "17.99088400911599 \t 57.71875\n"
     ]
    }
   ],
   "source": [
    "result = np.array(Record).mean()\n",
    "print(result, \"\\t\",Diff_1m)\n",
    "# Time = np.array([start_10m, end_10m, Diff_10m])\n",
    "# np.save(\"10M_result.npz\", Record, Time)"
   ]
  }
 ],
 "metadata": {
  "kernelspec": {
   "display_name": "Python 3",
   "language": "python",
   "name": "python3"
  },
  "language_info": {
   "codemirror_mode": {
    "name": "ipython",
    "version": 3
   },
   "file_extension": ".py",
   "mimetype": "text/x-python",
   "name": "python",
   "nbconvert_exporter": "python",
   "pygments_lexer": "ipython3",
   "version": "3.8.5"
  }
 },
 "nbformat": 4,
 "nbformat_minor": 4
}
